{
 "cells": [
  {
   "cell_type": "markdown",
   "id": "befa55cc",
   "metadata": {},
   "source": [
    "# Numerical Data type"
   ]
  },
  {
   "cell_type": "markdown",
   "id": "d5a00e10",
   "metadata": {},
   "source": [
    "* Integer\n",
    "* Float\n",
    "* Complex"
   ]
  },
  {
   "cell_type": "markdown",
   "id": "42c26d29",
   "metadata": {},
   "source": [
    "![](https://i1.faceprep.in/feed/images/numbers-in-python--image.webp)"
   ]
  },
  {
   "cell_type": "code",
   "execution_count": 1,
   "id": "7ad05f13",
   "metadata": {},
   "outputs": [
    {
     "name": "stdout",
     "output_type": "stream",
     "text": [
      "123 45.56 (5+3j)\n",
      "<class 'int'> <class 'float'> <class 'complex'>\n"
     ]
    }
   ],
   "source": [
    "x, y, z = 123, 45.56, 5+3j\n",
    "print(x,y,z)\n",
    "print(type(x),type(y),type(z))"
   ]
  },
  {
   "cell_type": "markdown",
   "id": "a94c5709",
   "metadata": {},
   "source": [
    "### Integer / int()"
   ]
  },
  {
   "cell_type": "markdown",
   "id": "fc9f0dde",
   "metadata": {},
   "source": [
    "* An integer can be zero,postivr or a negative whole number."
   ]
  },
  {
   "cell_type": "code",
   "execution_count": 2,
   "id": "26f4d866",
   "metadata": {},
   "outputs": [
    {
     "name": "stdout",
     "output_type": "stream",
     "text": [
      "10\n",
      "5\n",
      "513\n",
      "5\n"
     ]
    }
   ],
   "source": [
    "print(int('10'))\n",
    "print(int('0101',2))  #binary base\n",
    "print(int('1001',8))\n",
    "print(int(5.5))"
   ]
  },
  {
   "cell_type": "markdown",
   "id": "1cfbb7fd",
   "metadata": {},
   "source": [
    "### Float()"
   ]
  },
  {
   "cell_type": "markdown",
   "id": "31396f55",
   "metadata": {},
   "source": [
    "* A Floating point number, is a positive or negative whole number with decimal point."
   ]
  },
  {
   "cell_type": "code",
   "execution_count": 3,
   "id": "63596e35",
   "metadata": {},
   "outputs": [
    {
     "name": "stdout",
     "output_type": "stream",
     "text": [
      "5.0\n"
     ]
    }
   ],
   "source": [
    "a = float(5)\n",
    "print(a)"
   ]
  },
  {
   "cell_type": "markdown",
   "id": "edca4773",
   "metadata": {},
   "source": [
    "### Complex()"
   ]
  },
  {
   "cell_type": "markdown",
   "id": "6424f6c4",
   "metadata": {},
   "source": [
    "* The complex data type in python consist of two values, the first one is the real part of the complex number and tthe second one is the imaginary part of the complex number."
   ]
  },
  {
   "cell_type": "code",
   "execution_count": 4,
   "id": "238214de",
   "metadata": {},
   "outputs": [
    {
     "name": "stdout",
     "output_type": "stream",
     "text": [
      "(5+3j) <class 'complex'>\n",
      "5.0\n",
      "3.0\n"
     ]
    }
   ],
   "source": [
    "x = 5+3j\n",
    "print(x,type(x))\n",
    "print(x.real)\n",
    "print(x.imag)"
   ]
  },
  {
   "cell_type": "markdown",
   "id": "1558a96c",
   "metadata": {},
   "source": [
    "### Absolute value"
   ]
  },
  {
   "cell_type": "markdown",
   "id": "89389b09",
   "metadata": {},
   "source": [
    "* The absolute valueof any number is always positive, it removes the negative sign of a number."
   ]
  },
  {
   "cell_type": "code",
   "execution_count": 6,
   "id": "94287efc",
   "metadata": {},
   "outputs": [
    {
     "name": "stdout",
     "output_type": "stream",
     "text": [
      "10\n"
     ]
    }
   ],
   "source": [
    "x = -10\n",
    "y = abs(10)\n",
    "print(y)"
   ]
  },
  {
   "cell_type": "code",
   "execution_count": 8,
   "id": "2573f1b1",
   "metadata": {},
   "outputs": [
    {
     "name": "stdout",
     "output_type": "stream",
     "text": [
      "4.54\n"
     ]
    }
   ],
   "source": [
    "x = -4.54\n",
    "y = abs(-4.54)\n",
    "print(y)"
   ]
  },
  {
   "cell_type": "code",
   "execution_count": 7,
   "id": "862cadc3",
   "metadata": {},
   "outputs": [
    {
     "name": "stdout",
     "output_type": "stream",
     "text": [
      "5.830951894845301\n"
     ]
    }
   ],
   "source": [
    "x = -5-3j\n",
    "y = abs(-5-3j)\n",
    "print(y)"
   ]
  },
  {
   "cell_type": "markdown",
   "id": "73d24d1a",
   "metadata": {},
   "source": [
    "#### Floor and Ceil\n",
    "\n",
    "* Floor function rounds a number down to the nearest integer\n",
    "\n",
    "* Ceil function rounds a number upwards to its nearest intege"
   ]
  },
  {
   "cell_type": "code",
   "execution_count": 9,
   "id": "45ca2b24",
   "metadata": {},
   "outputs": [],
   "source": [
    "import math\n",
    "from math import ceil,floor"
   ]
  },
  {
   "cell_type": "code",
   "execution_count": 11,
   "id": "7d98d0db",
   "metadata": {},
   "outputs": [
    {
     "name": "stdout",
     "output_type": "stream",
     "text": [
      "5 6\n"
     ]
    }
   ],
   "source": [
    "print(floor(5.345), ceil(5.0345))"
   ]
  },
  {
   "cell_type": "markdown",
   "id": "226a2e30",
   "metadata": {},
   "source": [
    "#### Exponent\n",
    "\n",
    "* The exponent is the power of the variale and the coefficient is the number before variable"
   ]
  },
  {
   "cell_type": "code",
   "execution_count": 12,
   "id": "49a3cc65",
   "metadata": {},
   "outputs": [
    {
     "name": "stdout",
     "output_type": "stream",
     "text": [
      "320.0\n"
     ]
    }
   ],
   "source": [
    "print(3.2e+2)"
   ]
  },
  {
   "cell_type": "code",
   "execution_count": 13,
   "id": "de1598a0",
   "metadata": {},
   "outputs": [
    {
     "name": "stdout",
     "output_type": "stream",
     "text": [
      "56400000.0\n"
     ]
    }
   ],
   "source": [
    "print(5.64e+7)"
   ]
  },
  {
   "cell_type": "code",
   "execution_count": 14,
   "id": "facd9375",
   "metadata": {},
   "outputs": [
    {
     "name": "stdout",
     "output_type": "stream",
     "text": [
      "0.032\n"
     ]
    }
   ],
   "source": [
    "print(3.2e-2)"
   ]
  },
  {
   "cell_type": "code",
   "execution_count": null,
   "id": "997b7d5c",
   "metadata": {},
   "outputs": [],
   "source": []
  }
 ],
 "metadata": {
  "kernelspec": {
   "display_name": "Python 3 (ipykernel)",
   "language": "python",
   "name": "python3"
  },
  "language_info": {
   "codemirror_mode": {
    "name": "ipython",
    "version": 3
   },
   "file_extension": ".py",
   "mimetype": "text/x-python",
   "name": "python",
   "nbconvert_exporter": "python",
   "pygments_lexer": "ipython3",
   "version": "3.11.5"
  }
 },
 "nbformat": 4,
 "nbformat_minor": 5
}
